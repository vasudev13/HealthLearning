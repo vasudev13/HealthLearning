{
 "cells": [
  {
   "cell_type": "code",
   "execution_count": null,
   "metadata": {
    "colab": {
     "base_uri": "https://localhost:8080/"
    },
    "id": "iXP4a68ySwf6",
    "outputId": "87039e87-f102-4504-c34f-493ce060f678"
   },
   "outputs": [],
   "source": [
    "!nvidia-smi"
   ]
  },
  {
   "cell_type": "code",
   "execution_count": null,
   "metadata": {
    "id": "LyOsz0GsKouY"
   },
   "outputs": [],
   "source": [
    "%load_ext tensorboard\n",
    "%load_ext autoreload\n",
    "%autoreload 2"
   ]
  },
  {
   "cell_type": "code",
   "execution_count": null,
   "metadata": {},
   "outputs": [],
   "source": [
    "%run ../nli/config.py\n",
    "%run ../nli/nli_finetune.py\n",
    "%run ../nli/mnli.py\n",
    "%run ../nli/nli_dataset.py"
   ]
  },
  {
   "cell_type": "code",
   "execution_count": null,
   "metadata": {
    "id": "laOI3ayiHioT"
   },
   "outputs": [],
   "source": [
    "import pandas as pd\n",
    "\n",
    "import torch\n",
    "import transformers\n",
    "import torchmetrics\n",
    "import pytorch_lightning as pl"
   ]
  },
  {
   "cell_type": "code",
   "execution_count": null,
   "metadata": {
    "colab": {
     "base_uri": "https://localhost:8080/"
    },
    "id": "UqDpGKcEJBoM",
    "outputId": "726f80e8-7572-4e1f-a67e-42c9aca161cb"
   },
   "outputs": [],
   "source": [
    "_=pl.seed_everything(CONFIG['SEED'])"
   ]
  },
  {
   "cell_type": "markdown",
   "metadata": {},
   "source": [
    "## Setup"
   ]
  },
  {
   "cell_type": "code",
   "execution_count": null,
   "metadata": {},
   "outputs": [],
   "source": [
    "CONFIG[\"MODEL_NAME_OR_PATH\"]=\"emilyalsentzer/Bio_ClinicalBERT\"\n",
    "CONFIG[\"MODEL_SAVE_NAME\"]=\"BIO_Clinical_BERT\"\n",
    "CONFIG[\"MAX_EPOCHS\"]=5"
   ]
  },
  {
   "cell_type": "markdown",
   "metadata": {},
   "source": [
    "## Training"
   ]
  },
  {
   "cell_type": "code",
   "execution_count": null,
   "metadata": {
    "id": "Q-zsAoT-Ggwz"
   },
   "outputs": [],
   "source": [
    "model_save_checkpoint = pl.callbacks.ModelCheckpoint(\n",
    "    monitor='val_loss',\n",
    "    dirpath=CONFIG['CHECKPOINT_DIR'],\n",
    "    filename=f\"{CONFIG['MODEL_SAVE_NAME']}\"+'-{epoch:02d}-{val_loss:.2f}',\n",
    "    save_top_k=1,\n",
    "    mode='min',\n",
    ")"
   ]
  },
  {
   "cell_type": "code",
   "execution_count": null,
   "metadata": {
    "colab": {
     "base_uri": "https://localhost:8080/"
    },
    "id": "yuzWNRU_LqoF",
    "outputId": "9f33825d-c08e-470e-c4c6-3d844d6f4004"
   },
   "outputs": [],
   "source": [
    "trainer = pl.Trainer(gpus=torch.cuda.device_count(),\n",
    "                     max_epochs=CONFIG['MAX_EPOCHS'],\n",
    "                     callbacks=[model_save_checkpoint],\n",
    "                     precision=CONFIG['PRECISION'],\n",
    "                     num_sanity_val_steps=0\n",
    "                    )"
   ]
  },
  {
   "cell_type": "code",
   "execution_count": null,
   "metadata": {
    "colab": {
     "base_uri": "https://localhost:8080/",
     "height": 402,
     "referenced_widgets": [
      "c8e5f9385f35457e892f9b602dfb8546",
      "d07156a3379e4b62b124c34d6b614643",
      "8473a40a64f349168a5da693c122b0e7",
      "20ac5951d8e14c76a11743e97c572c55",
      "b9eb6bbf864a4edf92b5b72601ec3352",
      "4814d7112c3e490b887ca10354563c38",
      "5c688bbff25d45d69856f370cbcb49ac",
      "eabc600ea8fa46fb9d8e935880e5a1cf"
     ]
    },
    "id": "VAsiFQk9sIyX",
    "outputId": "593a6bd0-b7d2-40d6-c28f-0766c4a69e61",
    "scrolled": true
   },
   "outputs": [],
   "source": [
    "model=NLIFineTuningModel(\n",
    "    model_name_or_path=CONFIG['MODEL_NAME_OR_PATH'],\n",
    "    num_labels=CONFIG['NUM_CLASSES'],\n",
    "    learning_rate=CONFIG['LEARNING_RATE'],\n",
    "    adam_epsilon=CONFIG['ADAM_EPSILON'],\n",
    "    weight_decay=CONFIG['WEIGHT_DECAY'],\n",
    "    max_len=CONFIG['MAX_LEN'],\n",
    "    warmup_steps=CONFIG['WARMUP_STEPS'],\n",
    "    max_epochs=trainer.max_epochs,\n",
    "    gpus=trainer.gpus,\n",
    "    accumulate_grad_batches=trainer.accumulate_grad_batches,\n",
    ")\n",
    "\n",
    "mnli_dm=NLIDataModel(get_split_def=mnli_df)\n",
    "trainer.fit(model,mnli_dm)"
   ]
  },
  {
   "cell_type": "code",
   "execution_count": null,
   "metadata": {
    "colab": {
     "base_uri": "https://localhost:8080/"
    },
    "id": "tVuzA8o-Vxnk",
    "outputId": "b3be092b-def0-4f8b-fb98-e3d93f45efda"
   },
   "outputs": [],
   "source": [
    "trainer.logged_metrics"
   ]
  },
  {
   "cell_type": "markdown",
   "metadata": {},
   "source": [
    "## Testing"
   ]
  },
  {
   "cell_type": "code",
   "execution_count": null,
   "metadata": {
    "colab": {
     "base_uri": "https://localhost:8080/",
     "height": 208,
     "referenced_widgets": [
      "fcbcbafad72c4504a521975423c3a37d"
     ]
    },
    "id": "IQMDoVRl6LQC",
    "outputId": "fd123aa5-cae8-4529-84b6-a9aff67ad0ef"
   },
   "outputs": [],
   "source": [
    "trainer.test()"
   ]
  }
 ],
 "metadata": {
  "accelerator": "GPU",
  "colab": {
   "name": "MedNLI.ipynb",
   "provenance": []
  },
  "kernelspec": {
   "display_name": "Python 3",
   "language": "python",
   "name": "python3"
  },
  "language_info": {
   "codemirror_mode": {
    "name": "ipython",
    "version": 3
   },
   "file_extension": ".py",
   "mimetype": "text/x-python",
   "name": "python",
   "nbconvert_exporter": "python",
   "pygments_lexer": "ipython3",
   "version": "3.8.5"
  },
  "widgets": {
   "application/vnd.jupyter.widget-state+json": {
    "20ac5951d8e14c76a11743e97c572c55": {
     "model_module": "@jupyter-widgets/controls",
     "model_name": "HBoxModel",
     "state": {
      "_dom_classes": [],
      "_model_module": "@jupyter-widgets/controls",
      "_model_module_version": "1.5.0",
      "_model_name": "HBoxModel",
      "_view_count": null,
      "_view_module": "@jupyter-widgets/controls",
      "_view_module_version": "1.5.0",
      "_view_name": "HBoxView",
      "box_style": "",
      "children": [
       "IPY_MODEL_41779b41eedd4783baefc30d83a9ecfa",
       "IPY_MODEL_e8ae0c9c4e144967872d4d91e41d4e40"
      ],
      "layout": "IPY_MODEL_267ff477bdd64c7d95cc5ba0ac29c325"
     }
    },
    "4814d7112c3e490b887ca10354563c38": {
     "model_module": "@jupyter-widgets/controls",
     "model_name": "HBoxModel",
     "state": {
      "_dom_classes": [],
      "_model_module": "@jupyter-widgets/controls",
      "_model_module_version": "1.5.0",
      "_model_name": "HBoxModel",
      "_view_count": null,
      "_view_module": "@jupyter-widgets/controls",
      "_view_module_version": "1.5.0",
      "_view_name": "HBoxView",
      "box_style": "",
      "children": [
       "IPY_MODEL_31ab0fabf1b94e33841995dfd70e3753",
       "IPY_MODEL_aada892f80d14ba79b28be2f8c3e7a1e"
      ],
      "layout": "IPY_MODEL_209bfc5b0c6940a28cf3ce0351b878e3"
     }
    },
    "5c688bbff25d45d69856f370cbcb49ac": {
     "model_module": "@jupyter-widgets/controls",
     "model_name": "HBoxModel",
     "state": {
      "_dom_classes": [],
      "_model_module": "@jupyter-widgets/controls",
      "_model_module_version": "1.5.0",
      "_model_name": "HBoxModel",
      "_view_count": null,
      "_view_module": "@jupyter-widgets/controls",
      "_view_module_version": "1.5.0",
      "_view_name": "HBoxView",
      "box_style": "",
      "children": [
       "IPY_MODEL_f0cb6837c36a411f91c1135466473666",
       "IPY_MODEL_bfc7bba2aa3e4161bb42015794b2b1fe"
      ],
      "layout": "IPY_MODEL_6329fc1096eb4125803631509bd0d247"
     }
    },
    "8473a40a64f349168a5da693c122b0e7": {
     "model_module": "@jupyter-widgets/controls",
     "model_name": "HBoxModel",
     "state": {
      "_dom_classes": [],
      "_model_module": "@jupyter-widgets/controls",
      "_model_module_version": "1.5.0",
      "_model_name": "HBoxModel",
      "_view_count": null,
      "_view_module": "@jupyter-widgets/controls",
      "_view_module_version": "1.5.0",
      "_view_name": "HBoxView",
      "box_style": "",
      "children": [
       "IPY_MODEL_fa2cdc6e7e79420bae526ea26b6d5fdf",
       "IPY_MODEL_27a031866a5a4097bbce40914dce4e4f"
      ],
      "layout": "IPY_MODEL_714a8adcd63e4027ab5c8b020cd46848"
     }
    },
    "b9eb6bbf864a4edf92b5b72601ec3352": {
     "model_module": "@jupyter-widgets/controls",
     "model_name": "HBoxModel",
     "state": {
      "_dom_classes": [],
      "_model_module": "@jupyter-widgets/controls",
      "_model_module_version": "1.5.0",
      "_model_name": "HBoxModel",
      "_view_count": null,
      "_view_module": "@jupyter-widgets/controls",
      "_view_module_version": "1.5.0",
      "_view_name": "HBoxView",
      "box_style": "",
      "children": [
       "IPY_MODEL_acb9b1254fdd416e8d39e5d9cf5ad101",
       "IPY_MODEL_d1ec4400c2914d02a12561b1b7e2c211"
      ],
      "layout": "IPY_MODEL_ba4fb451c73141708c50efca50e88954"
     }
    },
    "c8e5f9385f35457e892f9b602dfb8546": {
     "model_module": "@jupyter-widgets/controls",
     "model_name": "HBoxModel",
     "state": {
      "_dom_classes": [],
      "_model_module": "@jupyter-widgets/controls",
      "_model_module_version": "1.5.0",
      "_model_name": "HBoxModel",
      "_view_count": null,
      "_view_module": "@jupyter-widgets/controls",
      "_view_module_version": "1.5.0",
      "_view_name": "HBoxView",
      "box_style": "",
      "children": [
       "IPY_MODEL_564ba44b7a4943f0bab2abb2be4801c6",
       "IPY_MODEL_40c43dd7106646518965eac2fc4211b0"
      ],
      "layout": "IPY_MODEL_c7f6c9187da64a34b984f36a6af71a84"
     }
    },
    "d07156a3379e4b62b124c34d6b614643": {
     "model_module": "@jupyter-widgets/controls",
     "model_name": "HBoxModel",
     "state": {
      "_dom_classes": [],
      "_model_module": "@jupyter-widgets/controls",
      "_model_module_version": "1.5.0",
      "_model_name": "HBoxModel",
      "_view_count": null,
      "_view_module": "@jupyter-widgets/controls",
      "_view_module_version": "1.5.0",
      "_view_name": "HBoxView",
      "box_style": "",
      "children": [
       "IPY_MODEL_583fe45cb35049e4ac1e55757031715f",
       "IPY_MODEL_f64fa42eae474a4c8f3c570e7296f8d0"
      ],
      "layout": "IPY_MODEL_0792583f29c1416585008c08732299a7"
     }
    },
    "eabc600ea8fa46fb9d8e935880e5a1cf": {
     "model_module": "@jupyter-widgets/controls",
     "model_name": "HBoxModel",
     "state": {
      "_dom_classes": [],
      "_model_module": "@jupyter-widgets/controls",
      "_model_module_version": "1.5.0",
      "_model_name": "HBoxModel",
      "_view_count": null,
      "_view_module": "@jupyter-widgets/controls",
      "_view_module_version": "1.5.0",
      "_view_name": "HBoxView",
      "box_style": "",
      "children": [
       "IPY_MODEL_0c73f97cddb648d2ae0962c7b2727b62",
       "IPY_MODEL_2e7a99602e0b438382b33cdb00864ce9"
      ],
      "layout": "IPY_MODEL_c9ff63f766a64ceb94e3a7d1607f4067"
     }
    },
    "fcbcbafad72c4504a521975423c3a37d": {
     "model_module": "@jupyter-widgets/controls",
     "model_name": "HBoxModel",
     "state": {
      "_dom_classes": [],
      "_model_module": "@jupyter-widgets/controls",
      "_model_module_version": "1.5.0",
      "_model_name": "HBoxModel",
      "_view_count": null,
      "_view_module": "@jupyter-widgets/controls",
      "_view_module_version": "1.5.0",
      "_view_name": "HBoxView",
      "box_style": "",
      "children": [
       "IPY_MODEL_a92fae4ee84c45debd3a748c6daa5d08",
       "IPY_MODEL_6f5f8a458c0b40a083775cf1c208cec6"
      ],
      "layout": "IPY_MODEL_fc41cc2e6d184568acf0b1ae77049e6e"
     }
    }
   }
  }
 },
 "nbformat": 4,
 "nbformat_minor": 4
}
