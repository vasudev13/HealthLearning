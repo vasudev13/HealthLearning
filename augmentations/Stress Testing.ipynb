{
 "cells": [
  {
   "cell_type": "code",
   "execution_count": 1,
   "id": "615b62f7",
   "metadata": {},
   "outputs": [],
   "source": [
    "%run ../nli/config.py\n",
    "%run ../nli/nli_finetune.py\n",
    "%run ../nli/mnli.py\n",
    "# %run ../nli/nli_dataset.py"
   ]
  },
  {
   "cell_type": "code",
   "execution_count": 2,
   "id": "adc7ab50",
   "metadata": {},
   "outputs": [],
   "source": [
    "import pandas as pd\n",
    "\n",
    "import torch\n",
    "import transformers\n",
    "import torchmetrics\n",
    "import pytorch_lightning as pl\n",
    "\n",
    "from transforms import ClinicalSynonymSubstitution"
   ]
  },
  {
   "cell_type": "code",
   "execution_count": 3,
   "id": "6b56b78d",
   "metadata": {},
   "outputs": [],
   "source": [
    "# transform=ClinicalSynonymSubstitution(substitution_probability=1.0,p=0.7)"
   ]
  },
  {
   "cell_type": "code",
   "execution_count": 4,
   "id": "aaffec27",
   "metadata": {
    "scrolled": true
   },
   "outputs": [],
   "source": [
    "# text=\"Patient has elevated BUN\"\n",
    "# transformed_text=transform(text)\n",
    "# transformed_text"
   ]
  },
  {
   "cell_type": "code",
   "execution_count": 5,
   "id": "5c657f00",
   "metadata": {},
   "outputs": [],
   "source": [
    "device = torch.device(\"cuda\" if torch.cuda.is_available() else \"cpu\")"
   ]
  },
  {
   "cell_type": "code",
   "execution_count": 6,
   "id": "3f00bf6c",
   "metadata": {},
   "outputs": [],
   "source": [
    "CONFIG[\"MODEL_NAME_OR_PATH\"]=\"dmis-lab/biobert-v1.1\" # Make changes here to specify different model.\n",
    "CONFIG[\"CHECKPOINT_DIR\"]=\"../nli/checkpoints/biobert_v1-epoch=01-val_loss=0.45.ckpt\" # Make changes here to specify corresponding model checkpoint."
   ]
  },
  {
   "cell_type": "code",
   "execution_count": 7,
   "id": "34770992",
   "metadata": {},
   "outputs": [
    {
     "name": "stderr",
     "output_type": "stream",
     "text": [
      "Global seed set to 13\n"
     ]
    }
   ],
   "source": [
    "_=pl.seed_everything(CONFIG['SEED'])"
   ]
  },
  {
   "cell_type": "code",
   "execution_count": 8,
   "id": "66fbfaa6",
   "metadata": {},
   "outputs": [
    {
     "name": "stderr",
     "output_type": "stream",
     "text": [
      "Some weights of BertForSequenceClassification were not initialized from the model checkpoint at dmis-lab/biobert-v1.1 and are newly initialized: ['classifier.bias', 'classifier.weight']\n",
      "You should probably TRAIN this model on a down-stream task to be able to use it for predictions and inference.\n"
     ]
    }
   ],
   "source": [
    "trained_model = NLIFineTuningModel.load_from_checkpoint(checkpoint_path=CONFIG[\"CHECKPOINT_DIR\"],  # model checkpoint path\n",
    "                                                        num_labels=CONFIG['NUM_CLASSES'],\n",
    "                                                        model_name_or_path=CONFIG['MODEL_NAME_OR_PATH'])\n",
    "trained_model.freeze()"
   ]
  },
  {
   "cell_type": "code",
   "execution_count": 9,
   "id": "9e3c948f",
   "metadata": {},
   "outputs": [],
   "source": [
    "tokenizer = transformers.AutoTokenizer.from_pretrained(\n",
    "    CONFIG['MODEL_NAME_OR_PATH'])"
   ]
  },
  {
   "cell_type": "code",
   "execution_count": 10,
   "id": "f1d592e8",
   "metadata": {},
   "outputs": [],
   "source": [
    "class NLIDataset(torch.utils.data.Dataset):\n",
    "\n",
    "  def __init__(self,max_len:int,tokenizer,sentence1,sentence2,labels):\n",
    "    super().__init__()\n",
    "    self.max_len=max_len\n",
    "    self.tokenizer=tokenizer\n",
    "    self.sentence1=sentence1\n",
    "    self.sentence2=sentence2\n",
    "    self.labels=labels\n",
    "  \n",
    "  def __len__(self):\n",
    "    return len(self.sentence1)\n",
    "\n",
    "  def __getitem__(self,idx):\n",
    "    sentence_1=self.sentence1[idx]\n",
    "    sentence_2=self.sentence2[idx]\n",
    "    encoded_input=self.tokenizer.encode_plus(\n",
    "        text=sentence_1,\n",
    "        text_pair=sentence_2,\n",
    "        add_special_tokens=True,\n",
    "        padding='max_length',\n",
    "        truncation=True,\n",
    "        max_length=self.max_len,\n",
    "        return_token_type_ids=True,\n",
    "        return_attention_mask=True,\n",
    "        return_tensors='pt'\n",
    "    )\n",
    "\n",
    "    return {\n",
    "        'labels':torch.tensor(self.labels[idx]),\n",
    "        'input_ids':encoded_input['input_ids'].view(-1),\n",
    "        'attention_mask':encoded_input['attention_mask'].view(-1),\n",
    "        'token_type_ids':encoded_input['token_type_ids'].view(-1),\n",
    "    }"
   ]
  },
  {
   "cell_type": "code",
   "execution_count": 11,
   "id": "46b6df12",
   "metadata": {},
   "outputs": [],
   "source": [
    "test_df=mnli_df('test')"
   ]
  },
  {
   "cell_type": "code",
   "execution_count": 12,
   "id": "60838b6b",
   "metadata": {},
   "outputs": [],
   "source": [
    "test_dataset = NLIDataset(max_len=CONFIG['MAX_LEN'],\n",
    "                          tokenizer=tokenizer,\n",
    "                          sentence1=test_df[CONFIG['sentence1']].values,\n",
    "                          sentence2=test_df[CONFIG['sentence2']].values,\n",
    "                          labels=test_df[CONFIG['labels']].values,\n",
    "#                           transforms=None\n",
    "                         )"
   ]
  },
  {
   "cell_type": "code",
   "execution_count": 13,
   "id": "12ff1643",
   "metadata": {},
   "outputs": [],
   "source": [
    "test_dataloader = torch.utils.data.DataLoader(test_dataset,\n",
    "                                                      batch_size=CONFIG['VAL_BS'],\n",
    "                                                      shuffle=False,\n",
    "                                                      num_workers=CONFIG['NUM_WORKERS'])"
   ]
  },
  {
   "cell_type": "code",
   "execution_count": 14,
   "id": "966fa579",
   "metadata": {},
   "outputs": [],
   "source": [
    "test_metrics=torchmetrics.MetricCollection([\n",
    "            torchmetrics.Accuracy(),\n",
    "            torchmetrics.F1(num_classes=CONFIG['NUM_CLASSES'], average='macro')])\n",
    "test_metrics=test_metrics.to(device)"
   ]
  },
  {
   "cell_type": "code",
   "execution_count": 15,
   "id": "ddcd37cf",
   "metadata": {},
   "outputs": [],
   "source": [
    "trained_model=trained_model.to(device)"
   ]
  },
  {
   "cell_type": "code",
   "execution_count": 16,
   "id": "5472bb37",
   "metadata": {},
   "outputs": [
    {
     "data": {
      "text/plain": [
       "{'Accuracy': tensor(0.8235, device='cuda:0'),\n",
       " 'F1': tensor(0.8230, device='cuda:0')}"
      ]
     },
     "execution_count": 16,
     "metadata": {},
     "output_type": "execute_result"
    }
   ],
   "source": [
    "for batch in test_dataloader:\n",
    "    for key,value in batch.items():\n",
    "        batch[key]=value.to(device)\n",
    "    loss, logits = trained_model(batch)[:2]\n",
    "    predictions = torch.argmax(logits, dim=1)\n",
    "    test_metrics(predictions, batch['labels'])\n",
    "test_metrics.compute()"
   ]
  }
 ],
 "metadata": {
  "kernelspec": {
   "display_name": "Python 3",
   "language": "python",
   "name": "python3"
  },
  "language_info": {
   "codemirror_mode": {
    "name": "ipython",
    "version": 3
   },
   "file_extension": ".py",
   "mimetype": "text/x-python",
   "name": "python",
   "nbconvert_exporter": "python",
   "pygments_lexer": "ipython3",
   "version": "3.8.5"
  }
 },
 "nbformat": 4,
 "nbformat_minor": 5
}
