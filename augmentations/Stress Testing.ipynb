{
 "cells": [
  {
   "cell_type": "code",
   "execution_count": 5,
   "metadata": {},
   "outputs": [],
   "source": [
    "%run ../nli/config.py\n",
    "%run ../nli/nli_finetune.py\n",
    "%run ../nli/mnli.py\n",
    "%run ../nli/nli_dataset.py"
   ]
  },
  {
   "cell_type": "code",
   "execution_count": 18,
   "metadata": {},
   "outputs": [],
   "source": [
    "import pandas as pd\n",
    "\n",
    "import torch\n",
    "import transformers\n",
    "import torchmetrics\n",
    "import pytorch_lightning as pl\n",
    "\n",
    "from transforms import ClinicalSynonymSubstitution"
   ]
  },
  {
   "cell_type": "code",
   "execution_count": null,
   "metadata": {},
   "outputs": [],
   "source": [
    "# transform=ClinicalSynonymSubstitution()\n",
    "# text=\"Patient has elevated BUN\"\n",
    "# transformed_text=transform(text)\n",
    "# transformed_text"
   ]
  },
  {
   "cell_type": "code",
   "execution_count": null,
   "metadata": {},
   "outputs": [],
   "source": [
    "# CONFIG[\"MODEL_SAVE_NAME\"]=\"\" # Make changes here to specify different model.\n",
    "# CONFIG[\"CHECKPOINT_DIR\"]=\"\" # Make changes here to specify corresponding model checkpoint."
   ]
  },
  {
   "cell_type": "code",
   "execution_count": null,
   "metadata": {},
   "outputs": [],
   "source": [
    "_=pl.seed_everything(CONFIG['SEED'])"
   ]
  },
  {
   "cell_type": "code",
   "execution_count": null,
   "metadata": {},
   "outputs": [],
   "source": [
    "trained_model = NLIFineTuningModel.load_from_checkpoint(checkpoint_path=args.model_checkpoint,  # model checkpoint path\n",
    "                                                        num_labels=CONFIG['NUM_CLASSES'],\n",
    "                                                        model_name_or_path=CONFIG['MODEL_NAME_OR_PATH'])\n",
    "trained_model.freeze()"
   ]
  },
  {
   "cell_type": "code",
   "execution_count": null,
   "metadata": {},
   "outputs": [],
   "source": [
    "tokenizer = transformers.AutoTokenizer.from_pretrained(\n",
    "    CONFIG['MODEL_NAME_OR_PATH'])"
   ]
  },
  {
   "cell_type": "code",
   "execution_count": null,
   "metadata": {},
   "outputs": [],
   "source": [
    "test_df = mnli_df('test')"
   ]
  },
  {
   "cell_type": "code",
   "execution_count": null,
   "metadata": {},
   "outputs": [],
   "source": [
    "test_dataset = NLIDataset(max_len=CONFIG['MAX_LEN'],\n",
    "                          tokenizer=tokenizer,\n",
    "                          sentence1=test_df[CONFIG['sentence1']].values,\n",
    "                          sentence2=test_df[CONFIG['sentence2']].values,\n",
    "                          labels=test_df[CONFIG['labels']].values,\n",
    "                          transforms=ClinicalSynonymSubstitution()\n",
    "                         )"
   ]
  },
  {
   "cell_type": "code",
   "execution_count": null,
   "metadata": {},
   "outputs": [],
   "source": [
    "test_dataloader = torch.utils.data.DataLoader(test_dataset,\n",
    "                                                      batch_size=CONFIG['VAL_BS'],\n",
    "                                                      shuffle=False,\n",
    "                                                      num_workers=CONFIG['NUM_WORKERS'])"
   ]
  },
  {
   "cell_type": "code",
   "execution_count": null,
   "metadata": {},
   "outputs": [],
   "source": [
    "test_metrics=torchmetrics.MetricCollection([\n",
    "            torchmetrics.Accuracy(),\n",
    "            torchmetrics.F1(num_classes=CONFIG['NUM_CLASSES'], average='macro')])"
   ]
  },
  {
   "cell_type": "code",
   "execution_count": null,
   "metadata": {},
   "outputs": [],
   "source": [
    "for batch in test_dataloader:\n",
    "    loss, logits = self(batch)[:2]\n",
    "    predictions = torch.argmax(logits, dim=1)\n",
    "    test_metrics(predictions, batch['labels'])\n",
    "test_metrics.compute()"
   ]
  }
 ],
 "metadata": {
  "kernelspec": {
   "display_name": "Python 3",
   "language": "python",
   "name": "python3"
  },
  "language_info": {
   "codemirror_mode": {
    "name": "ipython",
    "version": 3
   },
   "file_extension": ".py",
   "mimetype": "text/x-python",
   "name": "python",
   "nbconvert_exporter": "python",
   "pygments_lexer": "ipython3",
   "version": "3.8.5"
  }
 },
 "nbformat": 4,
 "nbformat_minor": 5
}
