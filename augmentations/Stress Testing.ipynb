{
 "cells": [
  {
   "cell_type": "code",
   "execution_count": 1,
   "id": "484980d7",
   "metadata": {},
   "outputs": [],
   "source": [
    "%load_ext autoreload\n",
    "%autoreload 2"
   ]
  },
  {
   "cell_type": "code",
   "execution_count": 2,
   "id": "826bd090",
   "metadata": {},
   "outputs": [],
   "source": [
    "%run ../nli/config.py\n",
    "%run ../nli/nli_finetune.py\n",
    "%run ../nli/mnli.py\n",
    "%run ../nli/nli_dataset.py"
   ]
  },
  {
   "cell_type": "code",
   "execution_count": 3,
   "id": "ddd6f366",
   "metadata": {},
   "outputs": [],
   "source": [
    "import pandas as pd\n",
    "\n",
    "import torch\n",
    "import transformers\n",
    "import torchmetrics\n",
    "import pytorch_lightning as pl\n",
    "\n",
    "from transforms import ClinicalSynonymSubstitution"
   ]
  },
  {
   "cell_type": "code",
   "execution_count": 4,
   "id": "3c6cca22",
   "metadata": {},
   "outputs": [],
   "source": [
    "%%capture\n",
    "transform=ClinicalSynonymSubstitution(substitution_probability=1.0,p=0.9)"
   ]
  },
  {
   "cell_type": "code",
   "execution_count": 5,
   "id": "258847d1",
   "metadata": {
    "scrolled": true
   },
   "outputs": [
    {
     "name": "stderr",
     "output_type": "stream",
     "text": [
      "/home/va2134/.local/lib/python3.8/site-packages/scispacy/candidate_generation.py:284: VisibleDeprecationWarning: Creating an ndarray from ragged nested sequences (which is a list-or-tuple of lists-or-tuples-or ndarrays with different lengths or shapes) is deprecated. If you meant to do this, you must specify 'dtype=object' when creating the ndarray.\n",
      "  extended_neighbors[empty_vectors_boolean_flags] = numpy.array(neighbors)[:-1]\n",
      "/home/va2134/.local/lib/python3.8/site-packages/scispacy/candidate_generation.py:285: VisibleDeprecationWarning: Creating an ndarray from ragged nested sequences (which is a list-or-tuple of lists-or-tuples-or ndarrays with different lengths or shapes) is deprecated. If you meant to do this, you must specify 'dtype=object' when creating the ndarray.\n",
      "  extended_distances[empty_vectors_boolean_flags] = numpy.array(distances)[:-1]\n"
     ]
    },
    {
     "data": {
      "text/plain": [
       "'Patients has elevate Blood Urea Nitrogen Measurement'"
      ]
     },
     "execution_count": 5,
     "metadata": {},
     "output_type": "execute_result"
    }
   ],
   "source": [
    "text=\"Patient has elevated BUN\"\n",
    "transformed_text=transform(text)\n",
    "transformed_text"
   ]
  },
  {
   "cell_type": "code",
   "execution_count": 6,
   "id": "2754d3fe",
   "metadata": {},
   "outputs": [],
   "source": [
    "device = torch.device(\"cuda\" if torch.cuda.is_available() else \"cpu\")"
   ]
  },
  {
   "cell_type": "code",
   "execution_count": 7,
   "id": "ae9b8c7e",
   "metadata": {},
   "outputs": [],
   "source": [
    "CONFIG[\"MODEL_NAME_OR_PATH\"]=\"dmis-lab/biobert-v1.1\" # Make changes here to specify different model.\n",
    "CONFIG[\"CHECKPOINT_DIR\"]=\"../nli/checkpoints/biobert_v1-epoch=01-val_loss=0.45.ckpt\" # Make changes here to specify corresponding model checkpoint."
   ]
  },
  {
   "cell_type": "code",
   "execution_count": 8,
   "id": "b0fc56d0",
   "metadata": {},
   "outputs": [
    {
     "name": "stderr",
     "output_type": "stream",
     "text": [
      "Global seed set to 13\n"
     ]
    }
   ],
   "source": [
    "_=pl.seed_everything(CONFIG['SEED'])"
   ]
  },
  {
   "cell_type": "code",
   "execution_count": 9,
   "id": "d0bf6455",
   "metadata": {},
   "outputs": [
    {
     "name": "stderr",
     "output_type": "stream",
     "text": [
      "Some weights of BertForSequenceClassification were not initialized from the model checkpoint at dmis-lab/biobert-v1.1 and are newly initialized: ['classifier.bias', 'classifier.weight']\n",
      "You should probably TRAIN this model on a down-stream task to be able to use it for predictions and inference.\n"
     ]
    }
   ],
   "source": [
    "trained_model = NLIFineTuningModel.load_from_checkpoint(checkpoint_path=CONFIG[\"CHECKPOINT_DIR\"],  # model checkpoint path\n",
    "                                                        num_labels=CONFIG['NUM_CLASSES'],\n",
    "                                                        model_name_or_path=CONFIG['MODEL_NAME_OR_PATH'])\n",
    "trained_model.freeze()"
   ]
  },
  {
   "cell_type": "code",
   "execution_count": 10,
   "id": "1fad1dac",
   "metadata": {},
   "outputs": [],
   "source": [
    "tokenizer = transformers.AutoTokenizer.from_pretrained(\n",
    "    CONFIG['MODEL_NAME_OR_PATH'])"
   ]
  },
  {
   "cell_type": "code",
   "execution_count": 11,
   "id": "94a7d5b9",
   "metadata": {},
   "outputs": [],
   "source": [
    "test_df=mnli_df('test')"
   ]
  },
  {
   "cell_type": "code",
   "execution_count": 12,
   "id": "46ea6624",
   "metadata": {},
   "outputs": [],
   "source": [
    "test_dataset = NLIDataset(max_len=CONFIG['MAX_LEN'],\n",
    "                          tokenizer=tokenizer,\n",
    "                          sentence1=test_df[CONFIG['sentence1']].values,\n",
    "                          sentence2=test_df[CONFIG['sentence2']].values,\n",
    "                          labels=test_df[CONFIG['labels']].values,\n",
    "                          transforms=transform\n",
    "                         )"
   ]
  },
  {
   "cell_type": "code",
   "execution_count": 13,
   "id": "3d6aa37f",
   "metadata": {},
   "outputs": [],
   "source": [
    "test_dataloader = torch.utils.data.DataLoader(test_dataset,\n",
    "                                                      batch_size=CONFIG['VAL_BS'],\n",
    "                                                      shuffle=False,\n",
    "                                                      num_workers=CONFIG['NUM_WORKERS'])"
   ]
  },
  {
   "cell_type": "code",
   "execution_count": 14,
   "id": "7b212dc1",
   "metadata": {},
   "outputs": [],
   "source": [
    "test_metrics=torchmetrics.MetricCollection([\n",
    "            torchmetrics.Accuracy(),\n",
    "            torchmetrics.F1(num_classes=CONFIG['NUM_CLASSES'], average='macro')])\n",
    "test_metrics=test_metrics.to(device)"
   ]
  },
  {
   "cell_type": "code",
   "execution_count": 15,
   "id": "4c9a766c",
   "metadata": {},
   "outputs": [],
   "source": [
    "trained_model=trained_model.to(device)"
   ]
  },
  {
   "cell_type": "code",
   "execution_count": 16,
   "id": "ca3fa0f2",
   "metadata": {},
   "outputs": [
    {
     "name": "stderr",
     "output_type": "stream",
     "text": [
      "/home/va2134/.local/lib/python3.8/site-packages/scispacy/candidate_generation.py:284: VisibleDeprecationWarning: Creating an ndarray from ragged nested sequences (which is a list-or-tuple of lists-or-tuples-or ndarrays with different lengths or shapes) is deprecated. If you meant to do this, you must specify 'dtype=object' when creating the ndarray.\n",
      "  extended_neighbors[empty_vectors_boolean_flags] = numpy.array(neighbors)[:-1]\n",
      "/home/va2134/.local/lib/python3.8/site-packages/scispacy/candidate_generation.py:285: VisibleDeprecationWarning: Creating an ndarray from ragged nested sequences (which is a list-or-tuple of lists-or-tuples-or ndarrays with different lengths or shapes) is deprecated. If you meant to do this, you must specify 'dtype=object' when creating the ndarray.\n",
      "  extended_distances[empty_vectors_boolean_flags] = numpy.array(distances)[:-1]\n",
      "/home/va2134/.local/lib/python3.8/site-packages/scispacy/candidate_generation.py:284: VisibleDeprecationWarning: Creating an ndarray from ragged nested sequences (which is a list-or-tuple of lists-or-tuples-or ndarrays with different lengths or shapes) is deprecated. If you meant to do this, you must specify 'dtype=object' when creating the ndarray.\n",
      "  extended_neighbors[empty_vectors_boolean_flags] = numpy.array(neighbors)[:-1]\n",
      "/home/va2134/.local/lib/python3.8/site-packages/scispacy/candidate_generation.py:285: VisibleDeprecationWarning: Creating an ndarray from ragged nested sequences (which is a list-or-tuple of lists-or-tuples-or ndarrays with different lengths or shapes) is deprecated. If you meant to do this, you must specify 'dtype=object' when creating the ndarray.\n",
      "  extended_distances[empty_vectors_boolean_flags] = numpy.array(distances)[:-1]\n"
     ]
    },
    {
     "data": {
      "text/plain": [
       "{'Accuracy': tensor(0.7004, device='cuda:0'),\n",
       " 'F1': tensor(0.6995, device='cuda:0')}"
      ]
     },
     "execution_count": 16,
     "metadata": {},
     "output_type": "execute_result"
    }
   ],
   "source": [
    "for batch in test_dataloader:\n",
    "    for key,value in batch.items():\n",
    "        batch[key]=value.to(device)\n",
    "    loss, logits = trained_model(batch)[:2]\n",
    "    predictions = torch.argmax(logits, dim=1)\n",
    "    test_metrics(predictions, batch['labels'])\n",
    "test_metrics.compute()"
   ]
  }
 ],
 "metadata": {
  "kernelspec": {
   "display_name": "Python 3",
   "language": "python",
   "name": "python3"
  },
  "language_info": {
   "codemirror_mode": {
    "name": "ipython",
    "version": 3
   },
   "file_extension": ".py",
   "mimetype": "text/x-python",
   "name": "python",
   "nbconvert_exporter": "python",
   "pygments_lexer": "ipython3",
   "version": "3.8.5"
  }
 },
 "nbformat": 4,
 "nbformat_minor": 5
}
